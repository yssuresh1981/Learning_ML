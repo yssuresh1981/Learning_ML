{
  "nbformat": 4,
  "nbformat_minor": 0,
  "metadata": {
    "colab": {
      "provenance": [],
      "authorship_tag": "ABX9TyPpM9o3PfMZNoHyNmd2O5g1",
      "include_colab_link": true
    },
    "kernelspec": {
      "name": "python3",
      "display_name": "Python 3"
    },
    "language_info": {
      "name": "python"
    }
  },
  "cells": [
    {
      "cell_type": "markdown",
      "metadata": {
        "id": "view-in-github",
        "colab_type": "text"
      },
      "source": [
        "<a href=\"https://colab.research.google.com/github/yssuresh1981/Learning_ML/blob/main/Test_Python.ipynb\" target=\"_parent\"><img src=\"https://colab.research.google.com/assets/colab-badge.svg\" alt=\"Open In Colab\"/></a>"
      ]
    },
    {
      "cell_type": "code",
      "execution_count": null,
      "metadata": {
        "id": "cXjVTcXsva69",
        "colab": {
          "base_uri": "https://localhost:8080/"
        },
        "outputId": "039e0b1a-d177-40e7-f0cc-7d08c49b48af"
      },
      "outputs": [
        {
          "output_type": "stream",
          "name": "stdout",
          "text": [
            "Hello world\n"
          ]
        }
      ],
      "source": [
        "print('Hello world')"
      ]
    },
    {
      "cell_type": "code",
      "source": [
        "k=1\n",
        "if k == 1:\n",
        "  print(\"k\")\n"
      ],
      "metadata": {
        "id": "f3ZiaJOFxFXN",
        "colab": {
          "base_uri": "https://localhost:8080/"
        },
        "outputId": "1370a250-f69d-423c-9b9e-d17ba5a42955"
      },
      "execution_count": null,
      "outputs": [
        {
          "output_type": "stream",
          "name": "stdout",
          "text": [
            "k\n"
          ]
        }
      ]
    },
    {
      "cell_type": "code",
      "source": [
        "myint = 7\n",
        "print(myint)"
      ],
      "metadata": {
        "colab": {
          "base_uri": "https://localhost:8080/"
        },
        "id": "TjmPldSI0Y8u",
        "outputId": "400cb132-7d9e-4035-f6bf-e45d2667b4ce"
      },
      "execution_count": null,
      "outputs": [
        {
          "output_type": "stream",
          "name": "stdout",
          "text": [
            "7\n"
          ]
        }
      ]
    },
    {
      "cell_type": "code",
      "source": [
        "myfloat = 7.0\n",
        "print(myfloat)\n",
        "myfloat = float(7)\n",
        "print(myfloat)"
      ],
      "metadata": {
        "colab": {
          "base_uri": "https://localhost:8080/"
        },
        "id": "iESiCtpf42LO",
        "outputId": "7f204c45-44af-440f-b37f-eea16bb794f5"
      },
      "execution_count": null,
      "outputs": [
        {
          "output_type": "stream",
          "name": "stdout",
          "text": [
            "7.0\n",
            "7.0\n"
          ]
        }
      ]
    },
    {
      "cell_type": "code",
      "source": [
        "mystring = 'hello'\n",
        "print(mystring)\n",
        "mystring = \"hello\"\n",
        "print(mystring)"
      ],
      "metadata": {
        "colab": {
          "base_uri": "https://localhost:8080/"
        },
        "id": "hufanonw5rGA",
        "outputId": "21f0a481-ab8f-4ad2-cc90-2bd8e94e393c"
      },
      "execution_count": null,
      "outputs": [
        {
          "output_type": "stream",
          "name": "stdout",
          "text": [
            "hello\n",
            "hello\n"
          ]
        }
      ]
    },
    {
      "cell_type": "code",
      "source": [
        "mystring = \"Don't worry about apostrophes\"\n",
        "print(mystring)"
      ],
      "metadata": {
        "colab": {
          "base_uri": "https://localhost:8080/"
        },
        "id": "6zH86R1T6JKZ",
        "outputId": "7a536d75-3798-43ad-fc22-60471e0aa816"
      },
      "execution_count": null,
      "outputs": [
        {
          "output_type": "stream",
          "name": "stdout",
          "text": [
            "Don't worry about apostrophes\n"
          ]
        }
      ]
    },
    {
      "cell_type": "code",
      "source": [
        "one = 1\n",
        "two = 2\n",
        "three = one + two\n",
        "print(three)\n",
        "\n",
        "hello = \"hello\"\n",
        "world = \"world\"\n",
        "helloworld = hello + \" \" + world\n",
        "print(helloworld)"
      ],
      "metadata": {
        "colab": {
          "base_uri": "https://localhost:8080/"
        },
        "id": "o4OjW5PG-5NM",
        "outputId": "90230d0f-9c11-46c7-b332-e5b3f924e0a1"
      },
      "execution_count": null,
      "outputs": [
        {
          "output_type": "stream",
          "name": "stdout",
          "text": [
            "3\n",
            "hello world\n"
          ]
        }
      ]
    },
    {
      "cell_type": "code",
      "source": [
        "a, b = 3, 4\n",
        "print(a, b)"
      ],
      "metadata": {
        "colab": {
          "base_uri": "https://localhost:8080/"
        },
        "id": "nZAuhavs_NAs",
        "outputId": "b49395b6-a394-4bb7-ee4b-e8004f6a7687"
      },
      "execution_count": null,
      "outputs": [
        {
          "output_type": "stream",
          "name": "stdout",
          "text": [
            "3 4\n"
          ]
        }
      ]
    },
    {
      "cell_type": "code",
      "source": [
        "# This will not work!\n",
        "one = 1\n",
        "two = 2\n",
        "hello = \"hello\"\n",
        "\n",
        "print(one + two + hello)"
      ],
      "metadata": {
        "colab": {
          "base_uri": "https://localhost:8080/",
          "height": 198
        },
        "id": "Bxx6MCCaADQI",
        "outputId": "82112110-a693-4dcf-ae03-13d743bcad89"
      },
      "execution_count": null,
      "outputs": [
        {
          "output_type": "error",
          "ename": "TypeError",
          "evalue": "ignored",
          "traceback": [
            "\u001b[0;31m---------------------------------------------------------------------------\u001b[0m",
            "\u001b[0;31mTypeError\u001b[0m                                 Traceback (most recent call last)",
            "\u001b[0;32m<ipython-input-13-fa035bb013ee>\u001b[0m in \u001b[0;36m<module>\u001b[0;34m\u001b[0m\n\u001b[1;32m      4\u001b[0m \u001b[0mhello\u001b[0m \u001b[0;34m=\u001b[0m \u001b[0;34m\"hello\"\u001b[0m\u001b[0;34m\u001b[0m\u001b[0;34m\u001b[0m\u001b[0m\n\u001b[1;32m      5\u001b[0m \u001b[0;34m\u001b[0m\u001b[0m\n\u001b[0;32m----> 6\u001b[0;31m \u001b[0mprint\u001b[0m\u001b[0;34m(\u001b[0m\u001b[0mone\u001b[0m \u001b[0;34m+\u001b[0m \u001b[0mtwo\u001b[0m \u001b[0;34m+\u001b[0m \u001b[0mhello\u001b[0m\u001b[0;34m)\u001b[0m\u001b[0;34m\u001b[0m\u001b[0;34m\u001b[0m\u001b[0m\n\u001b[0m",
            "\u001b[0;31mTypeError\u001b[0m: unsupported operand type(s) for +: 'int' and 'str'"
          ]
        }
      ]
    },
    {
      "cell_type": "code",
      "source": [
        "# change this code\n",
        "mystring = \"hello\"\n",
        "myfloat = 10.0\n",
        "myint = 20\n",
        "\n",
        "# testing code\n",
        "if mystring == \"hello\":\n",
        "    print(\"String: %s \"  % mystring)\n",
        "if isinstance(myfloat, float) and myfloat == 10.0:\n",
        "    print(\"Float: %f\" % myfloat)\n",
        "if isinstance(myint, int) and myint == 20:\n",
        "    print(\"Integer: %d\" % myint)"
      ],
      "metadata": {
        "colab": {
          "base_uri": "https://localhost:8080/"
        },
        "id": "sWDCQ7piB7Hc",
        "outputId": "c0150336-bbfb-4e92-de48-5c8462aca091"
      },
      "execution_count": null,
      "outputs": [
        {
          "output_type": "stream",
          "name": "stdout",
          "text": [
            "String: hello \n",
            "Float: 10.000000\n",
            "Integer: 20\n"
          ]
        }
      ]
    },
    {
      "cell_type": "code",
      "source": [
        "mylist = []\n",
        "mylist.append(1)\n",
        "mylist.append(2)\n",
        "mylist.append(3)\n",
        "print(mylist[0]) # prints 1\n",
        "print(mylist[1]) # prints 2\n",
        "print(mylist[2]) # prints 3\n",
        "\n",
        "# prints out 1,2,3\n",
        "for x in mylist:\n",
        "    print(x)"
      ],
      "metadata": {
        "colab": {
          "base_uri": "https://localhost:8080/"
        },
        "id": "GqAyxL-XftyH",
        "outputId": "bfaeddd1-4652-4cd5-b1c9-c673392e1e6a"
      },
      "execution_count": null,
      "outputs": [
        {
          "output_type": "stream",
          "name": "stdout",
          "text": [
            "1\n",
            "2\n",
            "3\n",
            "1\n",
            "2\n",
            "3\n"
          ]
        }
      ]
    },
    {
      "cell_type": "code",
      "source": [
        "mylist = [1,2,3]\n",
        "print(mylist[10])\n"
      ],
      "metadata": {
        "colab": {
          "base_uri": "https://localhost:8080/",
          "height": 181
        },
        "id": "q14GxYtp6JSf",
        "outputId": "9bb35249-8c01-4a93-e49e-c37a20e69ebe"
      },
      "execution_count": null,
      "outputs": [
        {
          "output_type": "error",
          "ename": "IndexError",
          "evalue": "ignored",
          "traceback": [
            "\u001b[0;31m---------------------------------------------------------------------------\u001b[0m",
            "\u001b[0;31mIndexError\u001b[0m                                Traceback (most recent call last)",
            "\u001b[0;32m<ipython-input-26-ac9eeac6db06>\u001b[0m in \u001b[0;36m<module>\u001b[0;34m\u001b[0m\n\u001b[1;32m      1\u001b[0m \u001b[0mmylist\u001b[0m \u001b[0;34m=\u001b[0m \u001b[0;34m[\u001b[0m\u001b[0;36m1\u001b[0m\u001b[0;34m,\u001b[0m\u001b[0;36m2\u001b[0m\u001b[0;34m,\u001b[0m\u001b[0;36m3\u001b[0m\u001b[0;34m]\u001b[0m\u001b[0;34m\u001b[0m\u001b[0;34m\u001b[0m\u001b[0m\n\u001b[0;32m----> 2\u001b[0;31m \u001b[0mprint\u001b[0m\u001b[0;34m(\u001b[0m\u001b[0mmylist\u001b[0m\u001b[0;34m[\u001b[0m\u001b[0;36m10\u001b[0m\u001b[0;34m]\u001b[0m\u001b[0;34m)\u001b[0m\u001b[0;34m\u001b[0m\u001b[0;34m\u001b[0m\u001b[0m\n\u001b[0m",
            "\u001b[0;31mIndexError\u001b[0m: list index out of range"
          ]
        }
      ]
    },
    {
      "cell_type": "code",
      "source": [
        "numbers = []\n",
        "strings = []\n",
        "names = [\"John\", \"Eric\", \"Jessica\"]\n",
        "\n",
        "# write your code here\n",
        "numbers.append(1)\n",
        "numbers.append(2)\n",
        "numbers.append(3)\n",
        "\n",
        "strings.append(\"hello\")\n",
        "strings.append(\"world\")\n",
        "\n",
        "second_name = names[1]\n",
        "\n",
        "# this code should write out the filled arrays and the second name in the names list (Eric).\n",
        "print(numbers)\n",
        "print(strings)\n",
        "print(\"The second name on the names list is %s\" % second_name)\n",
        "\n"
      ],
      "metadata": {
        "colab": {
          "base_uri": "https://localhost:8080/"
        },
        "id": "oEujCyckrbsV",
        "outputId": "eda8fa02-a835-4c00-f225-73c04e61a0ec"
      },
      "execution_count": null,
      "outputs": [
        {
          "output_type": "stream",
          "name": "stdout",
          "text": [
            "[1, 2, 3]\n",
            "['hello', 'world']\n",
            "The second name on the names list is Eric\n"
          ]
        }
      ]
    },
    {
      "cell_type": "code",
      "source": [
        "# if statement\n",
        "\n",
        "a = 10\n",
        "\n",
        "\n",
        "if a > 0:\n",
        "    print ('a is poistve')\n",
        "else:\n",
        "    print ('a is negative') \n",
        "    \n",
        "\n"
      ],
      "metadata": {
        "colab": {
          "base_uri": "https://localhost:8080/"
        },
        "id": "ijJZh4eO7wEN",
        "outputId": "e141f296-66d4-425b-c69f-ccf2ea00c763"
      },
      "execution_count": null,
      "outputs": [
        {
          "output_type": "stream",
          "name": "stdout",
          "text": [
            " a is poistve\n"
          ]
        }
      ]
    },
    {
      "cell_type": "code",
      "source": [
        "# nested Foe loop\n",
        "\n",
        "x = [1,2]\n",
        "y = [3,4]\n",
        "\n",
        "for i in x:\n",
        "  print(x)\n",
        "  for j in y:\n",
        "    print(y)\n",
        "   "
      ],
      "metadata": {
        "colab": {
          "base_uri": "https://localhost:8080/"
        },
        "id": "-osFwDdV-J7X",
        "outputId": "043998f3-3715-48ec-a028-827484dae0b7"
      },
      "execution_count": null,
      "outputs": [
        {
          "output_type": "stream",
          "name": "stdout",
          "text": [
            "[1, 2]\n",
            "[3, 4]\n",
            "[3, 4]\n",
            "[1, 2]\n",
            "[3, 4]\n",
            "[3, 4]\n"
          ]
        }
      ]
    },
    {
      "cell_type": "markdown",
      "source": [
        " If Mark is greater than 90 then Grade A\n",
        " If Mark is greater than 80 then Grade B\n",
        " if Mark is greater than 70 then Grade C\n",
        " if Mark is greater than 60 then Grade D\n",
        " if Mark is greater than 50 then Grade E\n",
        " if Mark is Less than 50 then Grade is F"
      ],
      "metadata": {
        "id": "KoxWGHVi_fU8"
      }
    },
    {
      "cell_type": "code",
      "source": [
        "a =76\n",
        "\n",
        "if a > 90:\n",
        "  print('A has got Grade A')\n",
        "elif a > 80:\n",
        "  print('A has got Grade B')\n",
        "elif a >70:\n",
        "  print('A has got Grade C')\n",
        "elif a > 60:\n",
        "  print('A has got Grade D')  \n",
        "elif a > 50:\n",
        "  print('A has got Grade E')\n",
        "else:\n",
        "  print('A has got Grade F')  \n",
        "\n",
        "\n"
      ],
      "metadata": {
        "colab": {
          "base_uri": "https://localhost:8080/"
        },
        "id": "GwENjnsLGjeo",
        "outputId": "009d871f-4bba-4373-e643-39da33a3e73d"
      },
      "execution_count": null,
      "outputs": [
        {
          "output_type": "stream",
          "name": "stdout",
          "text": [
            "A has got Grade C\n"
          ]
        }
      ]
    },
    {
      "cell_type": "code",
      "source": [
        "# List\n",
        "\n",
        "Numbers = [23,34,45,67,87,90,12,34,56,78,89,79,78,45,67,34,23,45,67,80,50]\n",
        "\n",
        "sum =0\n",
        "\n",
        "for i in range(0 , len(Numbers)):\n",
        "  sum = sum + Numbers[i]\n",
        "\n",
        "print(sum)\n",
        "\n"
      ],
      "metadata": {
        "colab": {
          "base_uri": "https://localhost:8080/"
        },
        "id": "wVX5U-8kLsrG",
        "outputId": "78358b36-5c6d-4864-8d3b-855c7123cf43"
      },
      "execution_count": null,
      "outputs": [
        {
          "output_type": "stream",
          "name": "stdout",
          "text": [
            "1183\n"
          ]
        }
      ]
    },
    {
      "cell_type": "code",
      "source": [
        "for i in range(25,0,-2):\n",
        "  print(i)"
      ],
      "metadata": {
        "colab": {
          "base_uri": "https://localhost:8080/"
        },
        "id": "eF9WdjwjOveV",
        "outputId": "0a84d4c5-6509-4af4-cf51-b35e811a5261"
      },
      "execution_count": null,
      "outputs": [
        {
          "output_type": "stream",
          "name": "stdout",
          "text": [
            "25\n",
            "23\n",
            "21\n",
            "19\n",
            "17\n",
            "15\n",
            "13\n",
            "11\n",
            "9\n",
            "7\n",
            "5\n",
            "3\n",
            "1\n"
          ]
        }
      ]
    },
    {
      "cell_type": "code",
      "source": [
        " # Multiple list Find the Average of multiple lists\n",
        "\n",
        " list1 = [2,3,43,56,76,34]\n",
        " list2 = [23,34,56,78,90,12]\n",
        " list3 = [23,34,23,12,32,23]\n",
        " list4 = [23,32,43,54,65,67]\n",
        "\n",
        " sum = 0\n",
        "\n",
        " for i in range(0, len(list1)):\n",
        "   sum = sum + list1[i]\n",
        "\n",
        " print( 'Average of list is :' , sum/len(list1)) \n",
        "\n",
        "\n",
        "\n",
        "\n",
        "\n"
      ],
      "metadata": {
        "colab": {
          "base_uri": "https://localhost:8080/"
        },
        "id": "OPuVorm9P_8W",
        "outputId": "b4614a0c-8d66-40d5-f23c-a63c490abdb0"
      },
      "execution_count": null,
      "outputs": [
        {
          "output_type": "stream",
          "name": "stdout",
          "text": [
            "Average of list is : 35.666666666666664\n"
          ]
        }
      ]
    },
    {
      "cell_type": "code",
      "source": [
        "def average_list(num_list):\n",
        "  \n",
        "  num_sum=0\n",
        "\n",
        "  for i in range(0, len(num_list)):\n",
        "\n",
        "    num_sum=num_sum+num_list[i]\n",
        "\n",
        "  print('Average is:',num_sum/len(num_list))\n",
        "\n",
        "  return num_sum/len(num_list) \n"
      ],
      "metadata": {
        "id": "SCwfWVoyrgmY"
      },
      "execution_count": null,
      "outputs": []
    },
    {
      "cell_type": "code",
      "source": [
        "a = average_list(list1)"
      ],
      "metadata": {
        "colab": {
          "base_uri": "https://localhost:8080/"
        },
        "id": "qDvWeJeFxSnJ",
        "outputId": "fe50d1b7-8de0-4ac7-9ade-49e7d5979ee8"
      },
      "execution_count": null,
      "outputs": [
        {
          "output_type": "stream",
          "name": "stdout",
          "text": [
            "Average is: 35.666666666666664\n"
          ]
        }
      ]
    },
    {
      "cell_type": "code",
      "source": [
        "import myfunction\n",
        "\n",
        "a = average_list(list1)"
      ],
      "metadata": {
        "colab": {
          "base_uri": "https://localhost:8080/"
        },
        "id": "JpHgVbkL0rt9",
        "outputId": "1cff8788-2894-420f-dbc2-96fa247bbd24"
      },
      "execution_count": null,
      "outputs": [
        {
          "output_type": "stream",
          "name": "stdout",
          "text": [
            "Average is: 35.666666666666664\n"
          ]
        }
      ]
    },
    {
      "cell_type": "code",
      "source": [
        "!pip install numpy"
      ],
      "metadata": {
        "id": "8hN2qOBcSDjI",
        "colab": {
          "base_uri": "https://localhost:8080/"
        },
        "outputId": "8c2ac04a-11ff-4737-82ac-ee3691a8368e"
      },
      "execution_count": null,
      "outputs": [
        {
          "output_type": "stream",
          "name": "stdout",
          "text": [
            "Looking in indexes: https://pypi.org/simple, https://us-python.pkg.dev/colab-wheels/public/simple/\n",
            "Requirement already satisfied: numpy in /usr/local/lib/python3.7/dist-packages (1.21.6)\n"
          ]
        }
      ]
    },
    {
      "cell_type": "markdown",
      "source": [
        "Numpy\n",
        "\n",
        "1. Provide MutiDimentional Array Objects\n",
        "2. Provides Tools For Working With Arrays"
      ],
      "metadata": {
        "id": "5bEf-QO6hKKt"
      }
    },
    {
      "cell_type": "markdown",
      "source": [
        "Why use Numpy (vs List)\n",
        "\n",
        "1. Size\n",
        "2. Performance\n",
        "3. Operation\n"
      ],
      "metadata": {
        "id": "9z-WZOiCikKw"
      }
    },
    {
      "cell_type": "code",
      "source": [
        "import numpy as np\n",
        "import time\n"
      ],
      "metadata": {
        "id": "IZHnupXCLNKv"
      },
      "execution_count": null,
      "outputs": []
    },
    {
      "cell_type": "code",
      "source": [
        "def list_version(size_of_array):\n",
        "  t = time.time()\n",
        "  a = range(size_of_array)\n",
        "  b = range(size_of_array)\n",
        "  c = [a[i] + b[i] for i in range (len(a))]\n",
        "  return time.time() - t\n",
        " "
      ],
      "metadata": {
        "id": "npN6dBbJLr_2"
      },
      "execution_count": null,
      "outputs": []
    },
    {
      "cell_type": "code",
      "source": [
        "def numpy_version(size_of_array):\n",
        "  t = time.time()\n",
        "  a = np.arange(size_of_array)\n",
        "  b = np.arange(size_of_array)\n",
        "  c = a + b\n",
        "  return time.time() - t \n"
      ],
      "metadata": {
        "id": "CPVlk6i7M9nE"
      },
      "execution_count": null,
      "outputs": []
    },
    {
      "cell_type": "code",
      "source": [
        "size_of_array = 1000\n",
        "print('Time taken using list in (Sec) :' , list_version(size_of_array))\n",
        "print('Time taken using numpy in (Sec) :', numpy_version(size_of_array))"
      ],
      "metadata": {
        "colab": {
          "base_uri": "https://localhost:8080/"
        },
        "id": "Mc3BsZeVN9ng",
        "outputId": "858635c9-a610-4039-cb27-91e27f641c95"
      },
      "execution_count": null,
      "outputs": [
        {
          "output_type": "stream",
          "name": "stdout",
          "text": [
            "Time taken using list in (Sec) : 0.0004982948303222656\n",
            "Time taken using numpy in (Sec) : 0.0032885074615478516\n"
          ]
        }
      ]
    },
    {
      "cell_type": "markdown",
      "source": [
        " 1. Processing in NUmpy is faster than processing in list\n",
        " 2. Numpy is written in C ++\n",
        " 3. Some limitation in sing Numpy -"
      ],
      "metadata": {
        "id": "vBcw2LM7WjKd"
      }
    }
  ]
}