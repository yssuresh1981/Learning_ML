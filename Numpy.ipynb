{
  "nbformat": 4,
  "nbformat_minor": 0,
  "metadata": {
    "colab": {
      "provenance": [],
      "authorship_tag": "ABX9TyPc0tshEX6/o28p/3ebozg/",
      "include_colab_link": true
    },
    "kernelspec": {
      "name": "python3",
      "display_name": "Python 3"
    },
    "language_info": {
      "name": "python"
    }
  },
  "cells": [
    {
      "cell_type": "markdown",
      "metadata": {
        "id": "view-in-github",
        "colab_type": "text"
      },
      "source": [
        "<a href=\"https://colab.research.google.com/github/yssuresh1981/Learning_ML/blob/main/Numpy.ipynb\" target=\"_parent\"><img src=\"https://colab.research.google.com/assets/colab-badge.svg\" alt=\"Open In Colab\"/></a>"
      ]
    },
    {
      "cell_type": "code",
      "execution_count": null,
      "metadata": {
        "id": "IgL0rDSupQHO",
        "colab": {
          "base_uri": "https://localhost:8080/"
        },
        "outputId": "de6b8f69-74fc-41b4-800e-d12a2dbfebf8"
      },
      "outputs": [
        {
          "output_type": "stream",
          "name": "stdout",
          "text": [
            "Looking in indexes: https://pypi.org/simple, https://us-python.pkg.dev/colab-wheels/public/simple/\n",
            "Requirement already satisfied: numpy in /usr/local/lib/python3.8/dist-packages (1.21.6)\n"
          ]
        }
      ],
      "source": [
        "pip install numpy"
      ]
    },
    {
      "cell_type": "markdown",
      "source": [
        "What is NUMPY ?\n",
        "\n",
        "Provides multi dimentional array objects\n",
        "\n",
        "Provides tool for working with arrays\n"
      ],
      "metadata": {
        "id": "yI8Bby_AqPBN"
      }
    },
    {
      "cell_type": "markdown",
      "source": [
        "Why use numpy and not list ?\n",
        "\n",
        "Size\n",
        "Performance\n",
        "Operation"
      ],
      "metadata": {
        "id": "h_j-_VOrrX0K"
      }
    },
    {
      "cell_type": "markdown",
      "source": [
        "Performance Comparison"
      ],
      "metadata": {
        "id": "hIRkwVeEtHmM"
      }
    },
    {
      "cell_type": "code",
      "source": [
        "import numpy as np\n",
        "import time"
      ],
      "metadata": {
        "id": "U11XBSoltbGw"
      },
      "execution_count": null,
      "outputs": []
    },
    {
      "cell_type": "code",
      "source": [
        "def list_version(size_of_array):\n",
        "  t=time.time()\n",
        "  a=range(size_of_array)\n",
        "  b=range(size_of_array)\n",
        "  c = 0\n",
        "  for i in range(len(a)):\n",
        "\n",
        "      \n",
        "    c = [a[i]+b[i] for i in range(len(a))] \n",
        "\n",
        "  return time.time() - t\n"
      ],
      "metadata": {
        "id": "E9UrNCGNEdXV"
      },
      "execution_count": null,
      "outputs": []
    },
    {
      "cell_type": "code",
      "source": [
        "def numpy_version(size_of_array):\n",
        "  t=time.time()\n",
        "  a=np.arange(size_of_array)\n",
        "  b=np.arange(size_of_array)\n",
        "  c = a+b\n",
        "  return time.time() - t"
      ],
      "metadata": {
        "id": "OVPNJX9NZXIX"
      },
      "execution_count": null,
      "outputs": []
    },
    {
      "cell_type": "code",
      "source": [
        "size_of_array = 1000\n",
        "\n",
        "print('Time Taken by list (Sec) :',list_version(size_of_array))\n",
        "print('Time Taken by numpy (Sec) :',numpy_version(size_of_array))"
      ],
      "metadata": {
        "colab": {
          "base_uri": "https://localhost:8080/"
        },
        "id": "81RefdwDeYAL",
        "outputId": "25eb0530-dfd4-4914-bf33-c380945d1fbb"
      },
      "execution_count": null,
      "outputs": [
        {
          "output_type": "stream",
          "name": "stdout",
          "text": [
            "Time Taken by list (Sec) : 0.5811915397644043\n",
            "Time Taken by numpy (Sec) : 6.818771362304688e-05\n"
          ]
        }
      ]
    },
    {
      "cell_type": "code",
      "source": [
        "  time.time()"
      ],
      "metadata": {
        "colab": {
          "base_uri": "https://localhost:8080/"
        },
        "id": "ZM9sk6r6ammf",
        "outputId": "35631293-002a-41fb-ca80-11fc6bc2d7b1"
      },
      "execution_count": null,
      "outputs": [
        {
          "output_type": "execute_result",
          "data": {
            "text/plain": [
              "1674759175.1776056"
            ]
          },
          "metadata": {},
          "execution_count": 5
        }
      ]
    },
    {
      "cell_type": "markdown",
      "source": [
        " The above piece of code represent the number of seconds passed from the base time since january 1 1970"
      ],
      "metadata": {
        "id": "PGNXtnv2bReI"
      }
    }
  ]
}